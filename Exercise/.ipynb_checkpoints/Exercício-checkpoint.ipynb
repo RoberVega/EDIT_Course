{
 "cells": [
  {
   "cell_type": "markdown",
   "metadata": {},
   "source": [
    "# Exercício Prático da ANPG"
   ]
  },
  {
   "cell_type": "markdown",
   "metadata": {},
   "source": [
    "Começamos com importar os pacotes necessários"
   ]
  },
  {
   "cell_type": "code",
   "execution_count": 1,
   "metadata": {},
   "outputs": [],
   "source": [
    "import pandas as pd\n",
    "import numpy as np"
   ]
  },
  {
   "cell_type": "markdown",
   "metadata": {},
   "source": [
    "### Exercício da parte 1"
   ]
  },
  {
   "cell_type": "markdown",
   "metadata": {},
   "source": [
    "Vamos começar por importar o nosso excel \"List of all wells_2022.25.01.xlsx\" numa variável chamada **data**. Da mesma maneira que o pandas tinha a função pd.read_csv(), também existe a função pd.read_excel(). Podem consultar a documentação neste link:\n",
    "\n",
    "https://pandas.pydata.org/docs/reference/api/pandas.read_excel.html\n",
    "\n",
    "O elemento chave para ter uma tabela com o nome certo das colunas é a opção *header*, que encontramos no link fornecido.\n",
    "\n",
    "A seguir, também vamos visualizar os primeiros 5 elementos e os 10 últimos."
   ]
  },
  {
   "cell_type": "code",
   "execution_count": 74,
   "metadata": {},
   "outputs": [],
   "source": [
    "# O código escreve-se aqui\n"
   ]
  },
  {
   "cell_type": "markdown",
   "metadata": {},
   "source": [
    "Vamos também ver a informação básica sobre o nosso DataFrame."
   ]
  },
  {
   "cell_type": "code",
   "execution_count": 75,
   "metadata": {},
   "outputs": [],
   "source": [
    "# O código escreve-se aqui\n"
   ]
  },
  {
   "cell_type": "markdown",
   "metadata": {},
   "source": [
    "Como podemos visualizar na nossa tabela, temos valores fora do esperado. Por exemplo, o valor mínimo da Longitude é negativo, e isto é estranho dada a localização geográfica da Angola. Por outro lado, o valor máximo é extremadamente grande em comparação com o percentil 75. Mesmo assim, também temos poços com um mínimo de 1 na profundidade da perfuração, o que parece pouco para um poço. Veremos mais para frente o que é que acontece com estes dados."
   ]
  },
  {
   "cell_type": "markdown",
   "metadata": {},
   "source": [
    "### Exercício da parte 2"
   ]
  },
  {
   "cell_type": "markdown",
   "metadata": {},
   "source": [
    "Vamos também renomear as colunas \n",
    "\n",
    "* Rig Release \\n(Data de Abandono do Rig) \n",
    "* Spud Date \\n(Data de perfuração)  \n",
    "* Drillers TD \\n(Profundidade da perfuração)\n",
    "\n",
    "como \n",
    "\n",
    "* Data de Abandono do Rig\n",
    "* Data de perfuração\n",
    "* Profundidade da perfuração\n",
    "\n",
    "respetivamente."
   ]
  },
  {
   "cell_type": "code",
   "execution_count": 76,
   "metadata": {},
   "outputs": [
    {
     "data": {
      "text/html": [
       "<div>\n",
       "<style scoped>\n",
       "    .dataframe tbody tr th:only-of-type {\n",
       "        vertical-align: middle;\n",
       "    }\n",
       "\n",
       "    .dataframe tbody tr th {\n",
       "        vertical-align: top;\n",
       "    }\n",
       "\n",
       "    .dataframe thead th {\n",
       "        text-align: right;\n",
       "    }\n",
       "</style>\n",
       "<table border=\"1\" class=\"dataframe\">\n",
       "  <thead>\n",
       "    <tr style=\"text-align: right;\">\n",
       "      <th></th>\n",
       "      <th>UWI (Unique Well Identifier)</th>\n",
       "      <th>Well Name</th>\n",
       "      <th>Longitude</th>\n",
       "      <th>Latitude</th>\n",
       "      <th>Well Number</th>\n",
       "      <th>Operator</th>\n",
       "      <th>Data de Abandono do Rig</th>\n",
       "      <th>Data de perfuração</th>\n",
       "      <th>Profundidade da perfuração</th>\n",
       "      <th>Units</th>\n",
       "      <th>...</th>\n",
       "      <th>Country</th>\n",
       "      <th>Basin</th>\n",
       "      <th>Block</th>\n",
       "      <th>Field</th>\n",
       "      <th>Profundidade em metros</th>\n",
       "      <th>year</th>\n",
       "      <th>month</th>\n",
       "      <th>day</th>\n",
       "      <th>Terrains_mapped</th>\n",
       "      <th>Profundidade_minmax</th>\n",
       "    </tr>\n",
       "  </thead>\n",
       "  <tbody>\n",
       "    <tr>\n",
       "      <th>0</th>\n",
       "      <td>CABS0001</td>\n",
       "      <td>100-01</td>\n",
       "      <td>12.341944</td>\n",
       "      <td>-5.580444</td>\n",
       "      <td>1</td>\n",
       "      <td>CABGOC</td>\n",
       "      <td>1967-12-03</td>\n",
       "      <td>1967-11-28</td>\n",
       "      <td>3437.006299</td>\n",
       "      <td>FEET</td>\n",
       "      <td>...</td>\n",
       "      <td>Angola</td>\n",
       "      <td>BCO</td>\n",
       "      <td>CABS</td>\n",
       "      <td>CABS_NOFIELD</td>\n",
       "      <td>1047.59952</td>\n",
       "      <td>1967</td>\n",
       "      <td>11</td>\n",
       "      <td>28</td>\n",
       "      <td>0</td>\n",
       "      <td>0.022572</td>\n",
       "    </tr>\n",
       "    <tr>\n",
       "      <th>1</th>\n",
       "      <td>CABS0034</td>\n",
       "      <td>101-01</td>\n",
       "      <td>12.486833</td>\n",
       "      <td>-5.580194</td>\n",
       "      <td>34</td>\n",
       "      <td>CABGOC</td>\n",
       "      <td>1969-03-24</td>\n",
       "      <td>1969-03-17</td>\n",
       "      <td>2768.004364</td>\n",
       "      <td>FEET</td>\n",
       "      <td>...</td>\n",
       "      <td>Angola</td>\n",
       "      <td>BCO</td>\n",
       "      <td>CABS</td>\n",
       "      <td>CABS_NOFIELD</td>\n",
       "      <td>843.68773</td>\n",
       "      <td>1969</td>\n",
       "      <td>03</td>\n",
       "      <td>17</td>\n",
       "      <td>0</td>\n",
       "      <td>0.018174</td>\n",
       "    </tr>\n",
       "    <tr>\n",
       "      <th>2</th>\n",
       "      <td>00-0637</td>\n",
       "      <td>103-01X</td>\n",
       "      <td>11.629194</td>\n",
       "      <td>-5.620499</td>\n",
       "      <td>637</td>\n",
       "      <td>CABGOC</td>\n",
       "      <td>1998-12-15</td>\n",
       "      <td>1998-11-18</td>\n",
       "      <td>9654.017717</td>\n",
       "      <td>FEET</td>\n",
       "      <td>...</td>\n",
       "      <td>Angola</td>\n",
       "      <td>BCO</td>\n",
       "      <td>BL0</td>\n",
       "      <td>00_BLOCK00_NOFIELD</td>\n",
       "      <td>2942.54460</td>\n",
       "      <td>1998</td>\n",
       "      <td>11</td>\n",
       "      <td>18</td>\n",
       "      <td>1</td>\n",
       "      <td>0.063440</td>\n",
       "    </tr>\n",
       "    <tr>\n",
       "      <th>3</th>\n",
       "      <td>00-0582</td>\n",
       "      <td>104-01X</td>\n",
       "      <td>11.704433</td>\n",
       "      <td>-5.602957</td>\n",
       "      <td>582</td>\n",
       "      <td>CABGOC</td>\n",
       "      <td>1989-08-01</td>\n",
       "      <td>1989-03-25</td>\n",
       "      <td>15243.025950</td>\n",
       "      <td>FEET</td>\n",
       "      <td>...</td>\n",
       "      <td>Angola</td>\n",
       "      <td>BCO</td>\n",
       "      <td>BL0</td>\n",
       "      <td>00_KOKONGO</td>\n",
       "      <td>4646.07431</td>\n",
       "      <td>1989</td>\n",
       "      <td>03</td>\n",
       "      <td>25</td>\n",
       "      <td>1</td>\n",
       "      <td>0.100181</td>\n",
       "    </tr>\n",
       "    <tr>\n",
       "      <th>4</th>\n",
       "      <td>00-0585</td>\n",
       "      <td>104-02</td>\n",
       "      <td>11.704433</td>\n",
       "      <td>-5.602958</td>\n",
       "      <td>585</td>\n",
       "      <td>CABGOC</td>\n",
       "      <td>NaT</td>\n",
       "      <td>1989-11-14</td>\n",
       "      <td>14770.025130</td>\n",
       "      <td>FEET</td>\n",
       "      <td>...</td>\n",
       "      <td>Angola</td>\n",
       "      <td>BCO</td>\n",
       "      <td>BL0</td>\n",
       "      <td>00_KOKONGO</td>\n",
       "      <td>4501.90366</td>\n",
       "      <td>1989</td>\n",
       "      <td>11</td>\n",
       "      <td>14</td>\n",
       "      <td>1</td>\n",
       "      <td>0.097071</td>\n",
       "    </tr>\n",
       "    <tr>\n",
       "      <th>...</th>\n",
       "      <td>...</td>\n",
       "      <td>...</td>\n",
       "      <td>...</td>\n",
       "      <td>...</td>\n",
       "      <td>...</td>\n",
       "      <td>...</td>\n",
       "      <td>...</td>\n",
       "      <td>...</td>\n",
       "      <td>...</td>\n",
       "      <td>...</td>\n",
       "      <td>...</td>\n",
       "      <td>...</td>\n",
       "      <td>...</td>\n",
       "      <td>...</td>\n",
       "      <td>...</td>\n",
       "      <td>...</td>\n",
       "      <td>...</td>\n",
       "      <td>...</td>\n",
       "      <td>...</td>\n",
       "      <td>...</td>\n",
       "      <td>...</td>\n",
       "    </tr>\n",
       "    <tr>\n",
       "      <th>4257</th>\n",
       "      <td>17-0189</td>\n",
       "      <td>ZINIA-511</td>\n",
       "      <td>NaN</td>\n",
       "      <td>NaN</td>\n",
       "      <td>189</td>\n",
       "      <td>TOTAL</td>\n",
       "      <td>NaT</td>\n",
       "      <td>NaT</td>\n",
       "      <td>NaN</td>\n",
       "      <td>NaN</td>\n",
       "      <td>...</td>\n",
       "      <td>Angola</td>\n",
       "      <td>BBC</td>\n",
       "      <td>BL17</td>\n",
       "      <td>17_ZINIA</td>\n",
       "      <td>NaN</td>\n",
       "      <td>NaT</td>\n",
       "      <td>None</td>\n",
       "      <td>None</td>\n",
       "      <td>1</td>\n",
       "      <td>NaN</td>\n",
       "    </tr>\n",
       "    <tr>\n",
       "      <th>4258</th>\n",
       "      <td>17-0254</td>\n",
       "      <td>ZINIA-512</td>\n",
       "      <td>NaN</td>\n",
       "      <td>NaN</td>\n",
       "      <td>254</td>\n",
       "      <td>TOTAL</td>\n",
       "      <td>NaT</td>\n",
       "      <td>NaT</td>\n",
       "      <td>NaN</td>\n",
       "      <td>NaN</td>\n",
       "      <td>...</td>\n",
       "      <td>Angola</td>\n",
       "      <td>BBC</td>\n",
       "      <td>BL17</td>\n",
       "      <td>17_ZINIA</td>\n",
       "      <td>NaN</td>\n",
       "      <td>NaT</td>\n",
       "      <td>None</td>\n",
       "      <td>None</td>\n",
       "      <td>1</td>\n",
       "      <td>NaN</td>\n",
       "    </tr>\n",
       "    <tr>\n",
       "      <th>4259</th>\n",
       "      <td>17-0316</td>\n",
       "      <td>ZINIA-521</td>\n",
       "      <td>NaN</td>\n",
       "      <td>NaN</td>\n",
       "      <td>316</td>\n",
       "      <td>TOTAL</td>\n",
       "      <td>NaT</td>\n",
       "      <td>NaT</td>\n",
       "      <td>NaN</td>\n",
       "      <td>NaN</td>\n",
       "      <td>...</td>\n",
       "      <td>Angola</td>\n",
       "      <td>BBC</td>\n",
       "      <td>BL17</td>\n",
       "      <td>17_ZINIA</td>\n",
       "      <td>NaN</td>\n",
       "      <td>NaT</td>\n",
       "      <td>None</td>\n",
       "      <td>None</td>\n",
       "      <td>1</td>\n",
       "      <td>NaN</td>\n",
       "    </tr>\n",
       "    <tr>\n",
       "      <th>4260</th>\n",
       "      <td>17-0317</td>\n",
       "      <td>ZINIA-522</td>\n",
       "      <td>NaN</td>\n",
       "      <td>NaN</td>\n",
       "      <td>317</td>\n",
       "      <td>TOTAL</td>\n",
       "      <td>NaT</td>\n",
       "      <td>NaT</td>\n",
       "      <td>NaN</td>\n",
       "      <td>NaN</td>\n",
       "      <td>...</td>\n",
       "      <td>Angola</td>\n",
       "      <td>BBC</td>\n",
       "      <td>BL17</td>\n",
       "      <td>17_ZINIA</td>\n",
       "      <td>NaN</td>\n",
       "      <td>NaT</td>\n",
       "      <td>None</td>\n",
       "      <td>None</td>\n",
       "      <td>1</td>\n",
       "      <td>NaN</td>\n",
       "    </tr>\n",
       "    <tr>\n",
       "      <th>4261</th>\n",
       "      <td>17-0318</td>\n",
       "      <td>ZINIA-523</td>\n",
       "      <td>NaN</td>\n",
       "      <td>NaN</td>\n",
       "      <td>318</td>\n",
       "      <td>TOTAL</td>\n",
       "      <td>NaT</td>\n",
       "      <td>NaT</td>\n",
       "      <td>NaN</td>\n",
       "      <td>NaN</td>\n",
       "      <td>...</td>\n",
       "      <td>Angola</td>\n",
       "      <td>BBC</td>\n",
       "      <td>BL17</td>\n",
       "      <td>17_ZINIA</td>\n",
       "      <td>NaN</td>\n",
       "      <td>NaT</td>\n",
       "      <td>None</td>\n",
       "      <td>None</td>\n",
       "      <td>1</td>\n",
       "      <td>NaN</td>\n",
       "    </tr>\n",
       "  </tbody>\n",
       "</table>\n",
       "<p>4262 rows × 23 columns</p>\n",
       "</div>"
      ],
      "text/plain": [
       "     UWI (Unique Well Identifier)  Well Name  Longitude  Latitude Well Number  \\\n",
       "0                        CABS0001     100-01  12.341944 -5.580444           1   \n",
       "1                        CABS0034     101-01  12.486833 -5.580194          34   \n",
       "2                         00-0637    103-01X  11.629194 -5.620499         637   \n",
       "3                         00-0582    104-01X  11.704433 -5.602957         582   \n",
       "4                         00-0585     104-02  11.704433 -5.602958         585   \n",
       "...                           ...        ...        ...       ...         ...   \n",
       "4257                      17-0189  ZINIA-511        NaN       NaN         189   \n",
       "4258                      17-0254  ZINIA-512        NaN       NaN         254   \n",
       "4259                      17-0316  ZINIA-521        NaN       NaN         316   \n",
       "4260                      17-0317  ZINIA-522        NaN       NaN         317   \n",
       "4261                      17-0318  ZINIA-523        NaN       NaN         318   \n",
       "\n",
       "     Operator Data de Abandono do Rig Data de perfuração  \\\n",
       "0      CABGOC              1967-12-03         1967-11-28   \n",
       "1      CABGOC              1969-03-24         1969-03-17   \n",
       "2      CABGOC              1998-12-15         1998-11-18   \n",
       "3      CABGOC              1989-08-01         1989-03-25   \n",
       "4      CABGOC                     NaT         1989-11-14   \n",
       "...       ...                     ...                ...   \n",
       "4257    TOTAL                     NaT                NaT   \n",
       "4258    TOTAL                     NaT                NaT   \n",
       "4259    TOTAL                     NaT                NaT   \n",
       "4260    TOTAL                     NaT                NaT   \n",
       "4261    TOTAL                     NaT                NaT   \n",
       "\n",
       "      Profundidade da perfuração Units  ... Country Basin Block  \\\n",
       "0                    3437.006299  FEET  ...  Angola   BCO  CABS   \n",
       "1                    2768.004364  FEET  ...  Angola   BCO  CABS   \n",
       "2                    9654.017717  FEET  ...  Angola   BCO   BL0   \n",
       "3                   15243.025950  FEET  ...  Angola   BCO   BL0   \n",
       "4                   14770.025130  FEET  ...  Angola   BCO   BL0   \n",
       "...                          ...   ...  ...     ...   ...   ...   \n",
       "4257                         NaN   NaN  ...  Angola   BBC  BL17   \n",
       "4258                         NaN   NaN  ...  Angola   BBC  BL17   \n",
       "4259                         NaN   NaN  ...  Angola   BBC  BL17   \n",
       "4260                         NaN   NaN  ...  Angola   BBC  BL17   \n",
       "4261                         NaN   NaN  ...  Angola   BBC  BL17   \n",
       "\n",
       "                   Field Profundidade em metros  year month   day  \\\n",
       "0           CABS_NOFIELD             1047.59952  1967    11    28   \n",
       "1           CABS_NOFIELD              843.68773  1969    03    17   \n",
       "2     00_BLOCK00_NOFIELD             2942.54460  1998    11    18   \n",
       "3             00_KOKONGO             4646.07431  1989    03    25   \n",
       "4             00_KOKONGO             4501.90366  1989    11    14   \n",
       "...                  ...                    ...   ...   ...   ...   \n",
       "4257            17_ZINIA                    NaN   NaT  None  None   \n",
       "4258            17_ZINIA                    NaN   NaT  None  None   \n",
       "4259            17_ZINIA                    NaN   NaT  None  None   \n",
       "4260            17_ZINIA                    NaN   NaT  None  None   \n",
       "4261            17_ZINIA                    NaN   NaT  None  None   \n",
       "\n",
       "     Terrains_mapped Profundidade_minmax  \n",
       "0                  0            0.022572  \n",
       "1                  0            0.018174  \n",
       "2                  1            0.063440  \n",
       "3                  1            0.100181  \n",
       "4                  1            0.097071  \n",
       "...              ...                 ...  \n",
       "4257               1                 NaN  \n",
       "4258               1                 NaN  \n",
       "4259               1                 NaN  \n",
       "4260               1                 NaN  \n",
       "4261               1                 NaN  \n",
       "\n",
       "[4262 rows x 23 columns]"
      ]
     },
     "execution_count": 76,
     "metadata": {},
     "output_type": "execute_result"
    }
   ],
   "source": [
    "data.rename(columns = {'Rig Release \\n(Data de Abandono do Rig)':'Data de Abandono do Rig',\n",
    "                      'Spud Date \\n(Data de perfuração)':'Data de perfuração',\n",
    "                      'Drillers TD \\n(Profundidade da perfuração)':'Profundidade da perfuração'},\n",
    "            inplace = True)\n",
    "\n",
    "data"
   ]
  },
  {
   "cell_type": "markdown",
   "metadata": {},
   "source": [
    "Vamos agora ordenar o nosso Dataframe a utilizar o índice **Well Name** como referência."
   ]
  },
  {
   "cell_type": "code",
   "execution_count": 77,
   "metadata": {},
   "outputs": [],
   "source": [
    "# O código escreve-se aqui\n"
   ]
  },
  {
   "cell_type": "markdown",
   "metadata": {},
   "source": [
    "Sempre que temos o **UWI (Unique Well Identifier)** como unico, vamos também alterar para fazer deste o nosso índice, mas a manter o **Well Name** como coluna e apagar a coluna **UWI (Unique Well Identifier)**."
   ]
  },
  {
   "cell_type": "code",
   "execution_count": 78,
   "metadata": {},
   "outputs": [],
   "source": [
    "# O código escreve-se aqui\n"
   ]
  },
  {
   "cell_type": "markdown",
   "metadata": {},
   "source": [
    "Tinhamos visto que temos alguns poços com dados fora da nossa expectativa. Vamos então visualizar as entradas na nossa tabela que tenham a longitude ou menor do que 0 ou maior do que 25."
   ]
  },
  {
   "cell_type": "code",
   "execution_count": 79,
   "metadata": {},
   "outputs": [],
   "source": [
    "# O código escreve-se aqui\n"
   ]
  },
  {
   "cell_type": "markdown",
   "metadata": {},
   "source": [
    "Observamos que há vários valores fora da estatística. O poço **32-0061** parece que tem um erro está na posição da vírgola. Vamos então comprobar se efetivamente é assim. Uma maneira de comprovar se esse valor faz sentido é ver quais é que são os valores para outros poços próximos deste, por exemplo, ver aqueles para os quais a coluna \"Field\" é \"32_GENGIBRE\". Da mesma maneira, queremos visualizar também o qué é que acontece com os poços com longitudes negativas, portanto, faz sentido visualizar também os poços com Basin igual a \"BKW\"."
   ]
  },
  {
   "cell_type": "code",
   "execution_count": 80,
   "metadata": {},
   "outputs": [],
   "source": [
    "# O código escreve-se aqui\n"
   ]
  },
  {
   "cell_type": "markdown",
   "metadata": {},
   "source": [
    "Portanto, parece que o erro no poço '32-0061' não corresponde com um erro na posição da vírgola. Portanto este caso deve ser analizado independentemente. Por outro lado, vemos que os erros nos outros poços estão associados a ter introducido a Longitude como Latitude e viceversa. Podemos então resolver este problema."
   ]
  },
  {
   "cell_type": "code",
   "execution_count": 81,
   "metadata": {},
   "outputs": [],
   "source": [
    "# O código escreve-se aqui\n"
   ]
  },
  {
   "cell_type": "markdown",
   "metadata": {},
   "source": [
    "Vamos agora criar uma nova coluna, chamada **Profundidade em metros**, onde vamos ter a nossa profundidade em metros, sempre que há valores nos que não temos unidades e estes deveriam ser analizados antes de criar esta nova coluna."
   ]
  },
  {
   "cell_type": "code",
   "execution_count": 82,
   "metadata": {},
   "outputs": [],
   "source": [
    "# O primeiro passo vai ser criar um dicionário que transforme METERS em 1,\n",
    "# FEET em 0.3048 e np.nan em 1\n",
    "\n",
    "# Finalmente vamos criar uma coluna \"Profundidade em metros\" a utilizar \n",
    "# a coluna anterior e a coluna \"Profundidade da perfuração\"\n"
   ]
  },
  {
   "cell_type": "markdown",
   "metadata": {},
   "source": [
    "Agora, já podemos fazer estatística sobre a coluna Profundidade em metros e sobre a Longitude da mesma maneira que no exercício da parte 1."
   ]
  },
  {
   "cell_type": "code",
   "execution_count": 83,
   "metadata": {},
   "outputs": [],
   "source": [
    "# O código escreve-se aqui\n"
   ]
  },
  {
   "cell_type": "markdown",
   "metadata": {},
   "source": [
    "Observamos que continua a haver um mínimo muito baixo para a perfuração. Vamos observar então aqueles valores na tabela que tem uma \"Profundidade em metros\" menor do que 50 metros e também aqueles que tem uma \"Profundidade da perfuração\" maior do que 6000."
   ]
  },
  {
   "cell_type": "code",
   "execution_count": 84,
   "metadata": {},
   "outputs": [],
   "source": [
    "# O código escreve-se aqui\n"
   ]
  },
  {
   "cell_type": "code",
   "execution_count": 85,
   "metadata": {},
   "outputs": [],
   "source": [
    "# O código escreve-se aqui\n"
   ]
  },
  {
   "cell_type": "markdown",
   "metadata": {},
   "source": [
    "A seguir, vamos apagar a coluna **Country**, pois nao faz sentido manter."
   ]
  },
  {
   "cell_type": "code",
   "execution_count": 15,
   "metadata": {},
   "outputs": [],
   "source": [
    "# O código escreve-se aqui\n",
    "\n"
   ]
  },
  {
   "cell_type": "markdown",
   "metadata": {},
   "source": [
    "### Exercício da parte 3"
   ]
  },
  {
   "cell_type": "markdown",
   "metadata": {},
   "source": [
    "Este exercício é muito simples, vamos só fazer dois histogramas: um para a coluna \"Profundidade da perfuração\" e outro para a \"Profundidade em metros\". Os dois com 100 divisões."
   ]
  },
  {
   "cell_type": "code",
   "execution_count": 87,
   "metadata": {},
   "outputs": [],
   "source": [
    "# esta linha é necessária para ver o gráfico no jupyter\n",
    "%matplotlib inline  \n",
    "# O código escreve-se aqui\n"
   ]
  },
  {
   "cell_type": "code",
   "execution_count": 88,
   "metadata": {},
   "outputs": [],
   "source": [
    "# O segundo gráfico vai aqui\n"
   ]
  },
  {
   "cell_type": "markdown",
   "metadata": {},
   "source": [
    "Observamos que o gráfico com as unidades certas é bem melhor e mais representativo da situação. No próximo exercício iremos fazer cálculos sobre estes dados e voltaremos a falar sobre este último gráfico.\n",
    "\n",
    "Como bonus, vou dar um exemplo de um gráfico um bocadinho mais complexo. Vamos ver a profundidade de perfuração média de cada tipo de poço baseado na sua \"Initial Class\" e também baseado no \"Operator\"."
   ]
  },
  {
   "cell_type": "code",
   "execution_count": 18,
   "metadata": {},
   "outputs": [
    {
     "data": {
      "image/png": "[encoded data removed]",
      "text/plain": [
       "<Figure size 1000x1000 with 1 Axes>"
      ]
     },
     "metadata": {},
     "output_type": "display_data"
    }
   ],
   "source": [
    "import matplotlib.pyplot as plt\n",
    "plt.rcParams[\"figure.figsize\"] = [10, 10]\n",
    "\n",
    "data.groupby(\"Operator\")[\"Profundidade em metros\"].mean().reset_index().plot.barh(x=\"Operator\", y=\"Profundidade em metros\");"
   ]
  },
  {
   "cell_type": "code",
   "execution_count": 19,
   "metadata": {},
   "outputs": [
    {
     "data": {
      "image/png": "[encoded data removed]",
      "text/plain": [
       "<Figure size 500x500 with 1 Axes>"
      ]
     },
     "metadata": {},
     "output_type": "display_data"
    }
   ],
   "source": [
    "plt.rcParams[\"figure.figsize\"] = [5, 5]\n",
    "\n",
    "data.groupby(\"Initial Class\")[\"Profundidade em metros\"].mean().reset_index().plot.bar(x=\"Initial Class\", y=\"Profundidade em metros\");"
   ]
  },
  {
   "cell_type": "markdown",
   "metadata": {},
   "source": [
    "### Exercício da parte 4 "
   ]
  },
  {
   "cell_type": "markdown",
   "metadata": {},
   "source": [
    "O primeiro exercício é super simples: vamos só calcular a média, mediana, desvío padrão, skewness e kurtosis da coluna \"Profundidade em metros\" e o objetivo é analizar os resultados obtidos e compará-los com o histograma do exercício anterior."
   ]
  },
  {
   "cell_type": "code",
   "execution_count": 90,
   "metadata": {},
   "outputs": [],
   "source": [
    "# O código escreve-se aqui\n"
   ]
  },
  {
   "cell_type": "markdown",
   "metadata": {},
   "source": [
    "Vamos procurar o máximo e o mínimo da \"Longitude\" e \"Latitude\" só para comprovar que não há nada muito fora do sitio."
   ]
  },
  {
   "cell_type": "code",
   "execution_count": 21,
   "metadata": {},
   "outputs": [],
   "source": [
    "# O código escreve-se aqui\n",
    "\n"
   ]
  },
  {
   "cell_type": "markdown",
   "metadata": {},
   "source": [
    "Vamos ver também qual é o \"Operator\" mais comum."
   ]
  },
  {
   "cell_type": "code",
   "execution_count": 22,
   "metadata": {},
   "outputs": [],
   "source": [
    "# O código escreve-se aqui\n",
    "\n"
   ]
  },
  {
   "cell_type": "markdown",
   "metadata": {},
   "source": [
    "### Exercício da parte 6"
   ]
  },
  {
   "cell_type": "markdown",
   "metadata": {},
   "source": [
    "Vamos primeiro fazer com que o nosso índice actual volte a ser uma coluna e utilizar um índice automático para poder analizar a nossa tabela."
   ]
  },
  {
   "cell_type": "code",
   "execution_count": 91,
   "metadata": {},
   "outputs": [],
   "source": [
    "# O código escreve-se aqui\n",
    "\n"
   ]
  },
  {
   "cell_type": "markdown",
   "metadata": {},
   "source": [
    "Sempre que esperamos que o nosso UWI (Unique Well Identifier) seja único, vamos contar o número de únicos da nossa tabela e ver as dimensoes da mesma para comparar."
   ]
  },
  {
   "cell_type": "code",
   "execution_count": 92,
   "metadata": {},
   "outputs": [],
   "source": [
    "# O código escreve-se aqui\n"
   ]
  },
  {
   "cell_type": "markdown",
   "metadata": {},
   "source": [
    "Observamos que temos 2 dados repetidos... o qual parece muito extranho... Vamos visualizar estes casos para decidir o que fazer com eles."
   ]
  },
  {
   "cell_type": "code",
   "execution_count": 94,
   "metadata": {
    "scrolled": true
   },
   "outputs": [],
   "source": [
    "# O código escreve-se aqui\n"
   ]
  },
  {
   "cell_type": "markdown",
   "metadata": {},
   "source": [
    "Sempre que o Well Name continua a ser diferente, parece que não é um problema muito grave e iremos deixá-los. Agora, vamos dividir a nossa coluna 'Data de perfuração' em tres colunas: 'year', 'month', 'day'."
   ]
  },
  {
   "cell_type": "code",
   "execution_count": 95,
   "metadata": {},
   "outputs": [],
   "source": [
    "# O código escreve-se aqui\n"
   ]
  },
  {
   "cell_type": "code",
   "execution_count": 70,
   "metadata": {},
   "outputs": [
    {
     "data": {
      "image/png": "[encoded data removed]",
      "text/plain": [
       "<Figure size 800x1200 with 1 Axes>"
      ]
     },
     "metadata": {},
     "output_type": "display_data"
    }
   ],
   "source": [
    "# Esta cédula é para visualizar a profundidade em metros perfurada\n",
    "# em cada ano dos quais temos informaçao. O objetivo é só ver por que\n",
    "# é que seria útil separar estas colunas\n",
    "plt.rcParams[\"figure.figsize\"] = [8, 12]\n",
    "data[data.year!='NaT'].groupby(\"year\")[\"Profundidade em metros\"].sum().reset_index().plot.barh(x=\"year\", y=\"Profundidade em metros\");"
   ]
  },
  {
   "cell_type": "code",
   "execution_count": 72,
   "metadata": {},
   "outputs": [
    {
     "data": {
      "image/png": "[encoded data removed]",
      "text/plain": [
       "<Figure size 500x500 with 1 Axes>"
      ]
     },
     "metadata": {},
     "output_type": "display_data"
    }
   ],
   "source": [
    "# E fazemos o mesmo para os messes\n",
    "plt.rcParams[\"figure.figsize\"] = [5, 5]\n",
    "data[data.year!='NaT'].groupby(\"month\")[\"Profundidade em metros\"].sum().reset_index().plot.barh(x=\"month\", y=\"Profundidade em metros\");"
   ]
  },
  {
   "cell_type": "markdown",
   "metadata": {},
   "source": [
    "Vamos agora analizar a coluna 'Terrains'. Começamos por ver quantos valores é que há nesta coluna (e queremos ver também aqueles que estão vazíos)."
   ]
  },
  {
   "cell_type": "code",
   "execution_count": 96,
   "metadata": {},
   "outputs": [],
   "source": [
    "# O código escreve-se aqui\n"
   ]
  },
  {
   "cell_type": "markdown",
   "metadata": {},
   "source": [
    "Vemos que só temos um valor sem especificar, vamos visualizá-lo!"
   ]
  },
  {
   "cell_type": "code",
   "execution_count": 97,
   "metadata": {},
   "outputs": [],
   "source": [
    "# O código escreve-se aqui\n"
   ]
  },
  {
   "cell_type": "markdown",
   "metadata": {},
   "source": [
    "Uma maneira de descobrer se o poço encontra-se ONSHORE ou OFFSHORE é visualizar o que é que acontece com os poços no mesmo 'Field'. Vamos então filtrar os valores que se encontram no 'Field' '15_KISSANJE' e contar quantos é que temos ONSHORE e OFFSHORE."
   ]
  },
  {
   "cell_type": "code",
   "execution_count": 98,
   "metadata": {},
   "outputs": [],
   "source": [
    "# O código escreve-se aqui\n"
   ]
  },
  {
   "cell_type": "markdown",
   "metadata": {},
   "source": [
    "Claramente, vemos que neste campo só temos poços OFFSHORE e, portanto, faz sentido fazer com que este poço seja OFFSHORE. Vamos então substituir o NaN por 'OFFSHORE'."
   ]
  },
  {
   "cell_type": "code",
   "execution_count": 99,
   "metadata": {},
   "outputs": [],
   "source": [
    "# O código escreve-se aqui \n"
   ]
  },
  {
   "cell_type": "markdown",
   "metadata": {},
   "source": [
    "Finalmente, voltamos a visualizar agora os valores para a coluna 'Terrains'."
   ]
  },
  {
   "cell_type": "code",
   "execution_count": 100,
   "metadata": {},
   "outputs": [],
   "source": [
    "# O código escreve-se aqui\n"
   ]
  },
  {
   "cell_type": "markdown",
   "metadata": {},
   "source": [
    "A segunda coluna que temos de tentar de preencher é a coluna 'Field'. Vamos só visualizar aqueles valores onde não temos um valor para a coluna. "
   ]
  },
  {
   "cell_type": "code",
   "execution_count": 101,
   "metadata": {},
   "outputs": [],
   "source": [
    "# O código escreve-se aqui\n"
   ]
  },
  {
   "cell_type": "markdown",
   "metadata": {},
   "source": [
    "Vamos então começar pelos valores do Block BL0. Vamos filtrar a nossa tabela para incluir únicamente os valores com Block BL0 e vamos ordenar os valores por \"Well Name\". Depois, vamos escolher as linhas entre os valores 590 e 600."
   ]
  },
  {
   "cell_type": "code",
   "execution_count": 102,
   "metadata": {},
   "outputs": [],
   "source": [
    "# O código escreve-se aqui\n"
   ]
  },
  {
   "cell_type": "markdown",
   "metadata": {},
   "source": [
    "Observamos, que faz sentido concluir que o valor do campo do poço 713 é '00_KUNGULO'."
   ]
  },
  {
   "cell_type": "code",
   "execution_count": 103,
   "metadata": {},
   "outputs": [],
   "source": [
    "# O código escreve-se aqui\n"
   ]
  },
  {
   "cell_type": "markdown",
   "metadata": {},
   "source": [
    "Vamos agora fazer o mesmo filtro, mas selecionar as linhas entre a 760 e a 770."
   ]
  },
  {
   "cell_type": "code",
   "execution_count": 104,
   "metadata": {},
   "outputs": [],
   "source": [
    "# O código escreve-se aqui\n"
   ]
  },
  {
   "cell_type": "markdown",
   "metadata": {},
   "source": [
    "Parece que neste caso não podemos determinar nada sobre os poços... Vamos então passar para o bloco BL48."
   ]
  },
  {
   "cell_type": "code",
   "execution_count": 105,
   "metadata": {},
   "outputs": [],
   "source": [
    "# O código escreve-se aqui\n"
   ]
  },
  {
   "cell_type": "markdown",
   "metadata": {},
   "source": [
    "Parece que tampoco podemos concluir nada! Seguimos então para o '14K_AIMI'."
   ]
  },
  {
   "cell_type": "code",
   "execution_count": 106,
   "metadata": {},
   "outputs": [],
   "source": [
    "# O código escreve-se aqui\n"
   ]
  },
  {
   "cell_type": "markdown",
   "metadata": {},
   "source": [
    "Parece que também não podemos concluir nada. "
   ]
  },
  {
   "cell_type": "markdown",
   "metadata": {},
   "source": [
    "### Exercício da parte 7"
   ]
  },
  {
   "cell_type": "markdown",
   "metadata": {},
   "source": [
    "O primeiro passo vai ser importar os pacotes necessários do sklearn para normalizar os nossos dados."
   ]
  },
  {
   "cell_type": "code",
   "execution_count": 42,
   "metadata": {},
   "outputs": [],
   "source": [
    "from sklearn.preprocessing import Binarizer\n",
    "from sklearn.preprocessing import MinMaxScaler\n",
    "import category_encoders as ce"
   ]
  },
  {
   "cell_type": "markdown",
   "metadata": {},
   "source": [
    "Vamos primeiro transformar a coluna de \"Terrains\" em 0 e 1 devido a que só temos duas hipóteses. Vamos transformar os poços \"ONSHORE\" em 0 e os poços \"OFFSHORE\" em 1."
   ]
  },
  {
   "cell_type": "code",
   "execution_count": 107,
   "metadata": {},
   "outputs": [],
   "source": [
    "# O código escreve-se aqui\n"
   ]
  },
  {
   "cell_type": "markdown",
   "metadata": {},
   "source": [
    "Vamos também normalizar a nossa \"Profundidade em metros\" a ter valores entre 0 e 1 com um MinMaxScaler."
   ]
  },
  {
   "cell_type": "code",
   "execution_count": 108,
   "metadata": {},
   "outputs": [],
   "source": [
    "# O código escreve-se aqui\n",
    "\n"
   ]
  },
  {
   "cell_type": "markdown",
   "metadata": {},
   "source": [
    "Da mesma maneira vamos criar uma nova categoría \"Profundidade_bin\" em que vamos fazer um binarizer com uma fronteira (threshold) de 2500. Como o Binarizer não consegue lidar con NaN's então primeiro vamos definir uma nova tabela \"data_com_profundidade\", onde vamos retirar as linhas que não tem dados de profundidade."
   ]
  },
  {
   "cell_type": "code",
   "execution_count": 109,
   "metadata": {},
   "outputs": [],
   "source": [
    "# O código escreve-se aqui\n"
   ]
  },
  {
   "cell_type": "code",
   "execution_count": 46,
   "metadata": {},
   "outputs": [
    {
     "data": {
      "text/plain": [
       "Basin      4\n",
       "Block     64\n",
       "Field    185\n",
       "dtype: int64"
      ]
     },
     "execution_count": 46,
     "metadata": {},
     "output_type": "execute_result"
    }
   ],
   "source": [
    "data[[\"Basin\", \"Block\",'Field']].nunique()"
   ]
  },
  {
   "cell_type": "markdown",
   "metadata": {},
   "source": [
    "Sempre que temos 4 categorías em Basin, por motivos de visualização vamos fazer a transformação OneHotEncoder nesta coluna."
   ]
  },
  {
   "cell_type": "code",
   "execution_count": 110,
   "metadata": {},
   "outputs": [],
   "source": [
    "# O código escreve-se aqui\n"
   ]
  },
  {
   "cell_type": "markdown",
   "metadata": {},
   "source": [
    "### Exercício da parte 8"
   ]
  },
  {
   "cell_type": "markdown",
   "metadata": {},
   "source": [
    "O objetivo da próxima cédula é deixar a nossa tabela pronta para o análise. Como tínhamos visto na parte 8, um dos problemas da regressão linear é que não consegue lidar com a multicolinearidade. Como temos varias colunas que falam sobre a localização geográfica, vamos só escolher aquelas que poderiam ser independentes. Vamos então utilizar também o OneHotEncoder para as colunas 'Initial Class' e 'Field' e normalizar com um MinMaxScaler as colunas numéricas 'Longitude' e 'Latitude' para ter os valores num intervalo (-1,1)."
   ]
  },
  {
   "cell_type": "code",
   "execution_count": 49,
   "metadata": {},
   "outputs": [
    {
     "name": "stderr",
     "output_type": "stream",
     "text": [
      "/home/rober/.virtualenvs/edit/lib/python3.7/site-packages/category_encoders/utils.py:21: FutureWarning: is_categorical is deprecated and will be removed in a future version.  Use is_categorical_dtype instead\n",
      "  elif pd.api.types.is_categorical(cols):\n",
      "/home/rober/.virtualenvs/edit/lib/python3.7/site-packages/category_encoders/utils.py:21: FutureWarning: is_categorical is deprecated and will be removed in a future version.  Use is_categorical_dtype instead\n",
      "  elif pd.api.types.is_categorical(cols):\n"
     ]
    },
    {
     "data": {
      "text/html": [
       "<div>\n",
       "<style scoped>\n",
       "    .dataframe tbody tr th:only-of-type {\n",
       "        vertical-align: middle;\n",
       "    }\n",
       "\n",
       "    .dataframe tbody tr th {\n",
       "        vertical-align: top;\n",
       "    }\n",
       "\n",
       "    .dataframe thead th {\n",
       "        text-align: right;\n",
       "    }\n",
       "</style>\n",
       "<table border=\"1\" class=\"dataframe\">\n",
       "  <thead>\n",
       "    <tr style=\"text-align: right;\">\n",
       "      <th></th>\n",
       "      <th>Longitude</th>\n",
       "      <th>Latitude</th>\n",
       "      <th>Terrains_mapped</th>\n",
       "      <th>Profundidade em metros</th>\n",
       "      <th>Initial Class_WILDCAT</th>\n",
       "      <th>Initial Class_APPRAISAL</th>\n",
       "      <th>Initial Class_DEVELOPMENT</th>\n",
       "      <th>Initial Class_STRATIGRAPHIC TEST</th>\n",
       "      <th>Initial Class_-1</th>\n",
       "      <th>Field_CABS_NOFIELD</th>\n",
       "      <th>...</th>\n",
       "      <th>Field_02_SULELESOUTH</th>\n",
       "      <th>Field_02_SULELEWEST</th>\n",
       "      <th>Field_KON_TOBIAS</th>\n",
       "      <th>Field_14_TOMBOCO</th>\n",
       "      <th>Field_14_TOMBUA</th>\n",
       "      <th>Field_02_TUBARAO</th>\n",
       "      <th>Field_40_BLOCK40_NOFIELD</th>\n",
       "      <th>Field_15_XIKOMBA</th>\n",
       "      <th>Field_17_ZINIA</th>\n",
       "      <th>Field_-1</th>\n",
       "    </tr>\n",
       "  </thead>\n",
       "  <tbody>\n",
       "    <tr>\n",
       "      <th>0</th>\n",
       "      <td>-0.999992</td>\n",
       "      <td>0.751853</td>\n",
       "      <td>0</td>\n",
       "      <td>1047.59952</td>\n",
       "      <td>1</td>\n",
       "      <td>0</td>\n",
       "      <td>0</td>\n",
       "      <td>0</td>\n",
       "      <td>0</td>\n",
       "      <td>1</td>\n",
       "      <td>...</td>\n",
       "      <td>0</td>\n",
       "      <td>0</td>\n",
       "      <td>0</td>\n",
       "      <td>0</td>\n",
       "      <td>0</td>\n",
       "      <td>0</td>\n",
       "      <td>0</td>\n",
       "      <td>0</td>\n",
       "      <td>0</td>\n",
       "      <td>0</td>\n",
       "    </tr>\n",
       "    <tr>\n",
       "      <th>1</th>\n",
       "      <td>-0.999991</td>\n",
       "      <td>0.751853</td>\n",
       "      <td>0</td>\n",
       "      <td>843.68773</td>\n",
       "      <td>1</td>\n",
       "      <td>0</td>\n",
       "      <td>0</td>\n",
       "      <td>0</td>\n",
       "      <td>0</td>\n",
       "      <td>1</td>\n",
       "      <td>...</td>\n",
       "      <td>0</td>\n",
       "      <td>0</td>\n",
       "      <td>0</td>\n",
       "      <td>0</td>\n",
       "      <td>0</td>\n",
       "      <td>0</td>\n",
       "      <td>0</td>\n",
       "      <td>0</td>\n",
       "      <td>0</td>\n",
       "      <td>0</td>\n",
       "    </tr>\n",
       "    <tr>\n",
       "      <th>2</th>\n",
       "      <td>-0.999995</td>\n",
       "      <td>0.751853</td>\n",
       "      <td>1</td>\n",
       "      <td>2942.54460</td>\n",
       "      <td>1</td>\n",
       "      <td>0</td>\n",
       "      <td>0</td>\n",
       "      <td>0</td>\n",
       "      <td>0</td>\n",
       "      <td>0</td>\n",
       "      <td>...</td>\n",
       "      <td>0</td>\n",
       "      <td>0</td>\n",
       "      <td>0</td>\n",
       "      <td>0</td>\n",
       "      <td>0</td>\n",
       "      <td>0</td>\n",
       "      <td>0</td>\n",
       "      <td>0</td>\n",
       "      <td>0</td>\n",
       "      <td>0</td>\n",
       "    </tr>\n",
       "    <tr>\n",
       "      <th>3</th>\n",
       "      <td>-0.999995</td>\n",
       "      <td>0.751853</td>\n",
       "      <td>1</td>\n",
       "      <td>4646.07431</td>\n",
       "      <td>1</td>\n",
       "      <td>0</td>\n",
       "      <td>0</td>\n",
       "      <td>0</td>\n",
       "      <td>0</td>\n",
       "      <td>0</td>\n",
       "      <td>...</td>\n",
       "      <td>0</td>\n",
       "      <td>0</td>\n",
       "      <td>0</td>\n",
       "      <td>0</td>\n",
       "      <td>0</td>\n",
       "      <td>0</td>\n",
       "      <td>0</td>\n",
       "      <td>0</td>\n",
       "      <td>0</td>\n",
       "      <td>0</td>\n",
       "    </tr>\n",
       "    <tr>\n",
       "      <th>4</th>\n",
       "      <td>-0.999995</td>\n",
       "      <td>0.751853</td>\n",
       "      <td>1</td>\n",
       "      <td>4501.90366</td>\n",
       "      <td>1</td>\n",
       "      <td>0</td>\n",
       "      <td>0</td>\n",
       "      <td>0</td>\n",
       "      <td>0</td>\n",
       "      <td>0</td>\n",
       "      <td>...</td>\n",
       "      <td>0</td>\n",
       "      <td>0</td>\n",
       "      <td>0</td>\n",
       "      <td>0</td>\n",
       "      <td>0</td>\n",
       "      <td>0</td>\n",
       "      <td>0</td>\n",
       "      <td>0</td>\n",
       "      <td>0</td>\n",
       "      <td>0</td>\n",
       "    </tr>\n",
       "    <tr>\n",
       "      <th>...</th>\n",
       "      <td>...</td>\n",
       "      <td>...</td>\n",
       "      <td>...</td>\n",
       "      <td>...</td>\n",
       "      <td>...</td>\n",
       "      <td>...</td>\n",
       "      <td>...</td>\n",
       "      <td>...</td>\n",
       "      <td>...</td>\n",
       "      <td>...</td>\n",
       "      <td>...</td>\n",
       "      <td>...</td>\n",
       "      <td>...</td>\n",
       "      <td>...</td>\n",
       "      <td>...</td>\n",
       "      <td>...</td>\n",
       "      <td>...</td>\n",
       "      <td>...</td>\n",
       "      <td>...</td>\n",
       "      <td>...</td>\n",
       "      <td>...</td>\n",
       "    </tr>\n",
       "    <tr>\n",
       "      <th>4238</th>\n",
       "      <td>-0.999994</td>\n",
       "      <td>0.751853</td>\n",
       "      <td>1</td>\n",
       "      <td>3660.00000</td>\n",
       "      <td>1</td>\n",
       "      <td>0</td>\n",
       "      <td>0</td>\n",
       "      <td>0</td>\n",
       "      <td>0</td>\n",
       "      <td>0</td>\n",
       "      <td>...</td>\n",
       "      <td>0</td>\n",
       "      <td>0</td>\n",
       "      <td>0</td>\n",
       "      <td>0</td>\n",
       "      <td>0</td>\n",
       "      <td>0</td>\n",
       "      <td>0</td>\n",
       "      <td>0</td>\n",
       "      <td>0</td>\n",
       "      <td>0</td>\n",
       "    </tr>\n",
       "    <tr>\n",
       "      <th>4239</th>\n",
       "      <td>-0.999993</td>\n",
       "      <td>0.751853</td>\n",
       "      <td>1</td>\n",
       "      <td>2066.00000</td>\n",
       "      <td>1</td>\n",
       "      <td>0</td>\n",
       "      <td>0</td>\n",
       "      <td>0</td>\n",
       "      <td>0</td>\n",
       "      <td>0</td>\n",
       "      <td>...</td>\n",
       "      <td>0</td>\n",
       "      <td>0</td>\n",
       "      <td>0</td>\n",
       "      <td>0</td>\n",
       "      <td>0</td>\n",
       "      <td>0</td>\n",
       "      <td>0</td>\n",
       "      <td>0</td>\n",
       "      <td>0</td>\n",
       "      <td>0</td>\n",
       "    </tr>\n",
       "    <tr>\n",
       "      <th>4246</th>\n",
       "      <td>-0.999993</td>\n",
       "      <td>0.751853</td>\n",
       "      <td>1</td>\n",
       "      <td>3653.00000</td>\n",
       "      <td>0</td>\n",
       "      <td>0</td>\n",
       "      <td>1</td>\n",
       "      <td>0</td>\n",
       "      <td>0</td>\n",
       "      <td>0</td>\n",
       "      <td>...</td>\n",
       "      <td>0</td>\n",
       "      <td>0</td>\n",
       "      <td>0</td>\n",
       "      <td>0</td>\n",
       "      <td>0</td>\n",
       "      <td>0</td>\n",
       "      <td>0</td>\n",
       "      <td>0</td>\n",
       "      <td>1</td>\n",
       "      <td>0</td>\n",
       "    </tr>\n",
       "    <tr>\n",
       "      <th>4255</th>\n",
       "      <td>-0.999993</td>\n",
       "      <td>0.751853</td>\n",
       "      <td>1</td>\n",
       "      <td>18.00000</td>\n",
       "      <td>0</td>\n",
       "      <td>0</td>\n",
       "      <td>1</td>\n",
       "      <td>0</td>\n",
       "      <td>0</td>\n",
       "      <td>0</td>\n",
       "      <td>...</td>\n",
       "      <td>0</td>\n",
       "      <td>0</td>\n",
       "      <td>0</td>\n",
       "      <td>0</td>\n",
       "      <td>0</td>\n",
       "      <td>0</td>\n",
       "      <td>0</td>\n",
       "      <td>0</td>\n",
       "      <td>1</td>\n",
       "      <td>0</td>\n",
       "    </tr>\n",
       "    <tr>\n",
       "      <th>4256</th>\n",
       "      <td>-0.999993</td>\n",
       "      <td>0.751853</td>\n",
       "      <td>1</td>\n",
       "      <td>23.00000</td>\n",
       "      <td>0</td>\n",
       "      <td>0</td>\n",
       "      <td>1</td>\n",
       "      <td>0</td>\n",
       "      <td>0</td>\n",
       "      <td>0</td>\n",
       "      <td>...</td>\n",
       "      <td>0</td>\n",
       "      <td>0</td>\n",
       "      <td>0</td>\n",
       "      <td>0</td>\n",
       "      <td>0</td>\n",
       "      <td>0</td>\n",
       "      <td>0</td>\n",
       "      <td>0</td>\n",
       "      <td>1</td>\n",
       "      <td>0</td>\n",
       "    </tr>\n",
       "  </tbody>\n",
       "</table>\n",
       "<p>2370 rows × 174 columns</p>\n",
       "</div>"
      ],
      "text/plain": [
       "      Longitude  Latitude  Terrains_mapped  Profundidade em metros  \\\n",
       "0     -0.999992  0.751853                0              1047.59952   \n",
       "1     -0.999991  0.751853                0               843.68773   \n",
       "2     -0.999995  0.751853                1              2942.54460   \n",
       "3     -0.999995  0.751853                1              4646.07431   \n",
       "4     -0.999995  0.751853                1              4501.90366   \n",
       "...         ...       ...              ...                     ...   \n",
       "4238  -0.999994  0.751853                1              3660.00000   \n",
       "4239  -0.999993  0.751853                1              2066.00000   \n",
       "4246  -0.999993  0.751853                1              3653.00000   \n",
       "4255  -0.999993  0.751853                1                18.00000   \n",
       "4256  -0.999993  0.751853                1                23.00000   \n",
       "\n",
       "      Initial Class_WILDCAT  Initial Class_APPRAISAL  \\\n",
       "0                         1                        0   \n",
       "1                         1                        0   \n",
       "2                         1                        0   \n",
       "3                         1                        0   \n",
       "4                         1                        0   \n",
       "...                     ...                      ...   \n",
       "4238                      1                        0   \n",
       "4239                      1                        0   \n",
       "4246                      0                        0   \n",
       "4255                      0                        0   \n",
       "4256                      0                        0   \n",
       "\n",
       "      Initial Class_DEVELOPMENT  Initial Class_STRATIGRAPHIC TEST  \\\n",
       "0                             0                                 0   \n",
       "1                             0                                 0   \n",
       "2                             0                                 0   \n",
       "3                             0                                 0   \n",
       "4                             0                                 0   \n",
       "...                         ...                               ...   \n",
       "4238                          0                                 0   \n",
       "4239                          0                                 0   \n",
       "4246                          1                                 0   \n",
       "4255                          1                                 0   \n",
       "4256                          1                                 0   \n",
       "\n",
       "      Initial Class_-1  Field_CABS_NOFIELD  ...  Field_02_SULELESOUTH  \\\n",
       "0                    0                   1  ...                     0   \n",
       "1                    0                   1  ...                     0   \n",
       "2                    0                   0  ...                     0   \n",
       "3                    0                   0  ...                     0   \n",
       "4                    0                   0  ...                     0   \n",
       "...                ...                 ...  ...                   ...   \n",
       "4238                 0                   0  ...                     0   \n",
       "4239                 0                   0  ...                     0   \n",
       "4246                 0                   0  ...                     0   \n",
       "4255                 0                   0  ...                     0   \n",
       "4256                 0                   0  ...                     0   \n",
       "\n",
       "      Field_02_SULELEWEST  Field_KON_TOBIAS  Field_14_TOMBOCO  \\\n",
       "0                       0                 0                 0   \n",
       "1                       0                 0                 0   \n",
       "2                       0                 0                 0   \n",
       "3                       0                 0                 0   \n",
       "4                       0                 0                 0   \n",
       "...                   ...               ...               ...   \n",
       "4238                    0                 0                 0   \n",
       "4239                    0                 0                 0   \n",
       "4246                    0                 0                 0   \n",
       "4255                    0                 0                 0   \n",
       "4256                    0                 0                 0   \n",
       "\n",
       "      Field_14_TOMBUA  Field_02_TUBARAO  Field_40_BLOCK40_NOFIELD  \\\n",
       "0                   0                 0                         0   \n",
       "1                   0                 0                         0   \n",
       "2                   0                 0                         0   \n",
       "3                   0                 0                         0   \n",
       "4                   0                 0                         0   \n",
       "...               ...               ...                       ...   \n",
       "4238                0                 0                         0   \n",
       "4239                0                 0                         0   \n",
       "4246                0                 0                         0   \n",
       "4255                0                 0                         0   \n",
       "4256                0                 0                         0   \n",
       "\n",
       "      Field_15_XIKOMBA  Field_17_ZINIA  Field_-1  \n",
       "0                    0               0         0  \n",
       "1                    0               0         0  \n",
       "2                    0               0         0  \n",
       "3                    0               0         0  \n",
       "4                    0               0         0  \n",
       "...                ...             ...       ...  \n",
       "4238                 0               0         0  \n",
       "4239                 0               0         0  \n",
       "4246                 0               1         0  \n",
       "4255                 0               1         0  \n",
       "4256                 0               1         0  \n",
       "\n",
       "[2370 rows x 174 columns]"
      ]
     },
     "execution_count": 49,
     "metadata": {},
     "output_type": "execute_result"
    }
   ],
   "source": [
    "# Estas são as colunas que vamos selecionar\n",
    "columns_for_reg = ['Longitude','Latitude','Initial Class','Terrains_mapped','Field','Profundidade em metros']\n",
    "\n",
    "# Selecionamos e retiramos todas as linhas com valores vazíos\n",
    "data_for_linear_reg = data[columns_for_reg].dropna()\n",
    "\n",
    "# Iniciamos o OneHotEncoder para a 'Initial Class'\n",
    "ohe_Initial_Class = ce.one_hot.OneHotEncoder(use_cat_names=True, handle_unknown='indicator')\n",
    "\n",
    "# Nomeamos por X a coluna que vamos utilizar para treinar o OneHotEncoder\n",
    "X = data_for_linear_reg[['Initial Class']]\n",
    "\n",
    "# Treinamos ou ajustamos o nosso OneHotEncoder\n",
    "ohe_Initial_Class.fit(X)\n",
    "\n",
    "# Juntamos a nossa tabela original sem a coluna 'Initial Class'\n",
    "# às colunas geradas pelo nosso OneHotEncoder\n",
    "data_for_linear_reg = pd.concat((data_for_linear_reg.drop(columns='Initial Class'),ohe_Initial_Class.transform(X)), axis=1)\n",
    "\n",
    "# Repetimos o processo para a coluna 'Field'\n",
    "ohe_Field = ce.one_hot.OneHotEncoder(use_cat_names=True, handle_unknown='indicator')\n",
    "\n",
    "X = data_for_linear_reg[['Field']]\n",
    "\n",
    "ohe_Field.fit(X)\n",
    "\n",
    "data_for_linear_reg = pd.concat((data_for_linear_reg.drop(columns='Field'),ohe_Field.transform(X)), axis=1)\n",
    "\n",
    "# Repetimos o processo, mas com um MinMaxScaler para a Longitude e Latitude\n",
    "minmaxscaler = MinMaxScaler(feature_range=(-1,1))\n",
    "\n",
    "X = data_for_linear_reg[['Longitude']]\n",
    "\n",
    "minmaxscaler.fit(X)\n",
    "\n",
    "data_for_linear_reg['Longitude'] = minmaxscaler.transform(X)\n",
    "\n",
    "\n",
    "minmaxscaler = MinMaxScaler(feature_range=(-1,1))\n",
    "\n",
    "X = data_for_linear_reg[['Latitude']]\n",
    "\n",
    "minmaxscaler.fit(X)\n",
    "\n",
    "data_for_linear_reg['Latitude'] = minmaxscaler.transform(X)\n",
    "\n",
    "# Visualizamos o resultado final\n",
    "data_for_linear_reg\n"
   ]
  },
  {
   "cell_type": "markdown",
   "metadata": {},
   "source": [
    "Uma vez que temos a nossa tabela já preparada para treinar o nosso modelo, vamos criar um modelo de regressão linear simples."
   ]
  },
  {
   "cell_type": "code",
   "execution_count": 50,
   "metadata": {},
   "outputs": [
    {
     "name": "stdout",
     "output_type": "stream",
     "text": [
      "Feature coefficients: \n",
      "Longitude                  -7.666768e+01\n",
      "Latitude                    6.166190e+01\n",
      "Terrains_mapped             9.548204e+02\n",
      "Initial Class_WILDCAT      -2.929166e+15\n",
      "Initial Class_APPRAISAL    -2.929166e+15\n",
      "                                ...     \n",
      "Field_02_TUBARAO           -4.922831e+13\n",
      "Field_40_BLOCK40_NOFIELD   -4.922831e+13\n",
      "Field_15_XIKOMBA           -4.922831e+13\n",
      "Field_17_ZINIA             -4.922831e+13\n",
      "Field_-1                    0.000000e+00\n",
      "Length: 173, dtype: float64\n",
      "\n",
      "\n",
      "Intercept: 2978394240206860.5\n",
      "\n",
      "\n"
     ]
    }
   ],
   "source": [
    "# Importamos as funçoes necessárias\n",
    "from sklearn.linear_model import LinearRegression\n",
    "\n",
    "# O código escréve-se aqui e vamos chamar a regressão linear lr\n",
    "\n",
    "\n",
    "\n",
    "\n",
    "# Vamos obter os coefficientes e fazer um print dos valores\n",
    "coefficients = lr.coef_\n",
    "intercept = lr.intercept_\n",
    "\n",
    "\n",
    "print('Feature coefficients: ')\n",
    "print(pd.Series(coefficients, X_poços.columns))\n",
    "print('\\n')\n",
    "\n",
    "print('Intercept: {}'.format(intercept))\n",
    "print('\\n')"
   ]
  },
  {
   "cell_type": "code",
   "execution_count": 111,
   "metadata": {},
   "outputs": [],
   "source": [
    "# Vamos importar a métrica de R^2 para ver qual percentagem\n",
    "# dos nossos valores podemos explicar\n",
    "from sklearn.metrics import r2_score\n",
    "# O código escreve-se aqui\n"
   ]
  },
  {
   "cell_type": "markdown",
   "metadata": {},
   "source": [
    "Mmmmhhh, parece que só conseguimos explicar o ~40% dos nossos valores... Dado que somos bons cientistas de dados, sabemos da nossa parte teórica, que a regressão linear é fraca em lidar com outliers e dado o exercício da parte 3, sabemos que existem vários outliers. Vamos retirá-los e ver qual é o nosso novo valor da métrica R^2. Vamos retirar aqueles valores cuja 'Profundidade em metros' seja maior do que 5000 e menor do que 100."
   ]
  },
  {
   "cell_type": "code",
   "execution_count": 54,
   "metadata": {},
   "outputs": [
    {
     "name": "stdout",
     "output_type": "stream",
     "text": [
      "Feature coefficients: \n",
      "Longitude                  -2.181827e+02\n",
      "Latitude                   -6.047562e+01\n",
      "Terrains_mapped             9.213212e+02\n",
      "Initial Class_WILDCAT       5.022916e+16\n",
      "Initial Class_APPRAISAL     5.022916e+16\n",
      "                                ...     \n",
      "Field_02_TUBARAO            1.201505e+14\n",
      "Field_40_BLOCK40_NOFIELD    6.536993e-13\n",
      "Field_15_XIKOMBA            1.201505e+14\n",
      "Field_17_ZINIA              1.201505e+14\n",
      "Field_-1                    0.000000e+00\n",
      "Length: 173, dtype: float64\n",
      "\n",
      "\n",
      "Intercept: -5.03493087013697e+16\n",
      "\n",
      "\n"
     ]
    }
   ],
   "source": [
    "# O código escreve-se aqui\n",
    "\n",
    "\n",
    "# E voltamos a escrever os nossos valores\n",
    "coefficients = lr.coef_\n",
    "intercept = lr.intercept_\n",
    "\n",
    "\n",
    "print('Feature coefficients: ')\n",
    "print(pd.Series(coefficients, X_poços.columns))\n",
    "print('\\n')\n",
    "\n",
    "print('Intercept: {}'.format(intercept))\n",
    "print('\\n')"
   ]
  },
  {
   "cell_type": "code",
   "execution_count": 112,
   "metadata": {},
   "outputs": [],
   "source": [
    "# O novo valor da R^2\n"
   ]
  },
  {
   "cell_type": "markdown",
   "metadata": {},
   "source": [
    "Bom! Agora já conseguimos explicar quase o ~65%! Ou seja, que retirar ~20 valores da nossa tabela consegue melhorar as nossas prediçoes num 25%!"
   ]
  },
  {
   "cell_type": "markdown",
   "metadata": {},
   "source": [
    "### Exercício da parte 10"
   ]
  },
  {
   "cell_type": "markdown",
   "metadata": {},
   "source": [
    "Vamos utilizar a nossa tabela data_com_profundidade devido a que nessa tabela binarizamos a nossa profundidade e chamamos 0 se o poço tiver menos do que 2.5 km de profundidade e 1 se o poço for mais profundo."
   ]
  },
  {
   "cell_type": "code",
   "execution_count": 56,
   "metadata": {},
   "outputs": [
    {
     "name": "stderr",
     "output_type": "stream",
     "text": [
      "/home/rober/.virtualenvs/edit/lib/python3.7/site-packages/category_encoders/utils.py:21: FutureWarning: is_categorical is deprecated and will be removed in a future version.  Use is_categorical_dtype instead\n",
      "  elif pd.api.types.is_categorical(cols):\n",
      "/home/rober/.virtualenvs/edit/lib/python3.7/site-packages/category_encoders/utils.py:21: FutureWarning: is_categorical is deprecated and will be removed in a future version.  Use is_categorical_dtype instead\n",
      "  elif pd.api.types.is_categorical(cols):\n"
     ]
    },
    {
     "data": {
      "text/html": [
       "<div>\n",
       "<style scoped>\n",
       "    .dataframe tbody tr th:only-of-type {\n",
       "        vertical-align: middle;\n",
       "    }\n",
       "\n",
       "    .dataframe tbody tr th {\n",
       "        vertical-align: top;\n",
       "    }\n",
       "\n",
       "    .dataframe thead th {\n",
       "        text-align: right;\n",
       "    }\n",
       "</style>\n",
       "<table border=\"1\" class=\"dataframe\">\n",
       "  <thead>\n",
       "    <tr style=\"text-align: right;\">\n",
       "      <th></th>\n",
       "      <th>Longitude</th>\n",
       "      <th>Latitude</th>\n",
       "      <th>Terrains_mapped</th>\n",
       "      <th>Profundidade_bin</th>\n",
       "      <th>Initial Class_WILDCAT</th>\n",
       "      <th>Initial Class_APPRAISAL</th>\n",
       "      <th>Initial Class_DEVELOPMENT</th>\n",
       "      <th>Initial Class_STRATIGRAPHIC TEST</th>\n",
       "      <th>Initial Class_-1</th>\n",
       "      <th>Field_CABS_NOFIELD</th>\n",
       "      <th>...</th>\n",
       "      <th>Field_02_SULELESOUTH</th>\n",
       "      <th>Field_02_SULELEWEST</th>\n",
       "      <th>Field_KON_TOBIAS</th>\n",
       "      <th>Field_14_TOMBOCO</th>\n",
       "      <th>Field_14_TOMBUA</th>\n",
       "      <th>Field_02_TUBARAO</th>\n",
       "      <th>Field_40_BLOCK40_NOFIELD</th>\n",
       "      <th>Field_15_XIKOMBA</th>\n",
       "      <th>Field_17_ZINIA</th>\n",
       "      <th>Field_-1</th>\n",
       "    </tr>\n",
       "  </thead>\n",
       "  <tbody>\n",
       "    <tr>\n",
       "      <th>0</th>\n",
       "      <td>-0.999992</td>\n",
       "      <td>0.751853</td>\n",
       "      <td>0</td>\n",
       "      <td>0.0</td>\n",
       "      <td>1</td>\n",
       "      <td>0</td>\n",
       "      <td>0</td>\n",
       "      <td>0</td>\n",
       "      <td>0</td>\n",
       "      <td>1</td>\n",
       "      <td>...</td>\n",
       "      <td>0</td>\n",
       "      <td>0</td>\n",
       "      <td>0</td>\n",
       "      <td>0</td>\n",
       "      <td>0</td>\n",
       "      <td>0</td>\n",
       "      <td>0</td>\n",
       "      <td>0</td>\n",
       "      <td>0</td>\n",
       "      <td>0</td>\n",
       "    </tr>\n",
       "    <tr>\n",
       "      <th>1</th>\n",
       "      <td>-0.999991</td>\n",
       "      <td>0.751853</td>\n",
       "      <td>0</td>\n",
       "      <td>0.0</td>\n",
       "      <td>1</td>\n",
       "      <td>0</td>\n",
       "      <td>0</td>\n",
       "      <td>0</td>\n",
       "      <td>0</td>\n",
       "      <td>1</td>\n",
       "      <td>...</td>\n",
       "      <td>0</td>\n",
       "      <td>0</td>\n",
       "      <td>0</td>\n",
       "      <td>0</td>\n",
       "      <td>0</td>\n",
       "      <td>0</td>\n",
       "      <td>0</td>\n",
       "      <td>0</td>\n",
       "      <td>0</td>\n",
       "      <td>0</td>\n",
       "    </tr>\n",
       "    <tr>\n",
       "      <th>2</th>\n",
       "      <td>-0.999995</td>\n",
       "      <td>0.751853</td>\n",
       "      <td>1</td>\n",
       "      <td>1.0</td>\n",
       "      <td>1</td>\n",
       "      <td>0</td>\n",
       "      <td>0</td>\n",
       "      <td>0</td>\n",
       "      <td>0</td>\n",
       "      <td>0</td>\n",
       "      <td>...</td>\n",
       "      <td>0</td>\n",
       "      <td>0</td>\n",
       "      <td>0</td>\n",
       "      <td>0</td>\n",
       "      <td>0</td>\n",
       "      <td>0</td>\n",
       "      <td>0</td>\n",
       "      <td>0</td>\n",
       "      <td>0</td>\n",
       "      <td>0</td>\n",
       "    </tr>\n",
       "    <tr>\n",
       "      <th>3</th>\n",
       "      <td>-0.999995</td>\n",
       "      <td>0.751853</td>\n",
       "      <td>1</td>\n",
       "      <td>1.0</td>\n",
       "      <td>1</td>\n",
       "      <td>0</td>\n",
       "      <td>0</td>\n",
       "      <td>0</td>\n",
       "      <td>0</td>\n",
       "      <td>0</td>\n",
       "      <td>...</td>\n",
       "      <td>0</td>\n",
       "      <td>0</td>\n",
       "      <td>0</td>\n",
       "      <td>0</td>\n",
       "      <td>0</td>\n",
       "      <td>0</td>\n",
       "      <td>0</td>\n",
       "      <td>0</td>\n",
       "      <td>0</td>\n",
       "      <td>0</td>\n",
       "    </tr>\n",
       "    <tr>\n",
       "      <th>4</th>\n",
       "      <td>-0.999995</td>\n",
       "      <td>0.751853</td>\n",
       "      <td>1</td>\n",
       "      <td>1.0</td>\n",
       "      <td>1</td>\n",
       "      <td>0</td>\n",
       "      <td>0</td>\n",
       "      <td>0</td>\n",
       "      <td>0</td>\n",
       "      <td>0</td>\n",
       "      <td>...</td>\n",
       "      <td>0</td>\n",
       "      <td>0</td>\n",
       "      <td>0</td>\n",
       "      <td>0</td>\n",
       "      <td>0</td>\n",
       "      <td>0</td>\n",
       "      <td>0</td>\n",
       "      <td>0</td>\n",
       "      <td>0</td>\n",
       "      <td>0</td>\n",
       "    </tr>\n",
       "    <tr>\n",
       "      <th>...</th>\n",
       "      <td>...</td>\n",
       "      <td>...</td>\n",
       "      <td>...</td>\n",
       "      <td>...</td>\n",
       "      <td>...</td>\n",
       "      <td>...</td>\n",
       "      <td>...</td>\n",
       "      <td>...</td>\n",
       "      <td>...</td>\n",
       "      <td>...</td>\n",
       "      <td>...</td>\n",
       "      <td>...</td>\n",
       "      <td>...</td>\n",
       "      <td>...</td>\n",
       "      <td>...</td>\n",
       "      <td>...</td>\n",
       "      <td>...</td>\n",
       "      <td>...</td>\n",
       "      <td>...</td>\n",
       "      <td>...</td>\n",
       "      <td>...</td>\n",
       "    </tr>\n",
       "    <tr>\n",
       "      <th>4238</th>\n",
       "      <td>-0.999994</td>\n",
       "      <td>0.751853</td>\n",
       "      <td>1</td>\n",
       "      <td>1.0</td>\n",
       "      <td>1</td>\n",
       "      <td>0</td>\n",
       "      <td>0</td>\n",
       "      <td>0</td>\n",
       "      <td>0</td>\n",
       "      <td>0</td>\n",
       "      <td>...</td>\n",
       "      <td>0</td>\n",
       "      <td>0</td>\n",
       "      <td>0</td>\n",
       "      <td>0</td>\n",
       "      <td>0</td>\n",
       "      <td>0</td>\n",
       "      <td>0</td>\n",
       "      <td>0</td>\n",
       "      <td>0</td>\n",
       "      <td>0</td>\n",
       "    </tr>\n",
       "    <tr>\n",
       "      <th>4239</th>\n",
       "      <td>-0.999993</td>\n",
       "      <td>0.751853</td>\n",
       "      <td>1</td>\n",
       "      <td>0.0</td>\n",
       "      <td>1</td>\n",
       "      <td>0</td>\n",
       "      <td>0</td>\n",
       "      <td>0</td>\n",
       "      <td>0</td>\n",
       "      <td>0</td>\n",
       "      <td>...</td>\n",
       "      <td>0</td>\n",
       "      <td>0</td>\n",
       "      <td>0</td>\n",
       "      <td>0</td>\n",
       "      <td>0</td>\n",
       "      <td>0</td>\n",
       "      <td>0</td>\n",
       "      <td>0</td>\n",
       "      <td>0</td>\n",
       "      <td>0</td>\n",
       "    </tr>\n",
       "    <tr>\n",
       "      <th>4246</th>\n",
       "      <td>-0.999993</td>\n",
       "      <td>0.751853</td>\n",
       "      <td>1</td>\n",
       "      <td>1.0</td>\n",
       "      <td>0</td>\n",
       "      <td>0</td>\n",
       "      <td>1</td>\n",
       "      <td>0</td>\n",
       "      <td>0</td>\n",
       "      <td>0</td>\n",
       "      <td>...</td>\n",
       "      <td>0</td>\n",
       "      <td>0</td>\n",
       "      <td>0</td>\n",
       "      <td>0</td>\n",
       "      <td>0</td>\n",
       "      <td>0</td>\n",
       "      <td>0</td>\n",
       "      <td>0</td>\n",
       "      <td>1</td>\n",
       "      <td>0</td>\n",
       "    </tr>\n",
       "    <tr>\n",
       "      <th>4255</th>\n",
       "      <td>-0.999993</td>\n",
       "      <td>0.751853</td>\n",
       "      <td>1</td>\n",
       "      <td>0.0</td>\n",
       "      <td>0</td>\n",
       "      <td>0</td>\n",
       "      <td>1</td>\n",
       "      <td>0</td>\n",
       "      <td>0</td>\n",
       "      <td>0</td>\n",
       "      <td>...</td>\n",
       "      <td>0</td>\n",
       "      <td>0</td>\n",
       "      <td>0</td>\n",
       "      <td>0</td>\n",
       "      <td>0</td>\n",
       "      <td>0</td>\n",
       "      <td>0</td>\n",
       "      <td>0</td>\n",
       "      <td>1</td>\n",
       "      <td>0</td>\n",
       "    </tr>\n",
       "    <tr>\n",
       "      <th>4256</th>\n",
       "      <td>-0.999993</td>\n",
       "      <td>0.751853</td>\n",
       "      <td>1</td>\n",
       "      <td>0.0</td>\n",
       "      <td>0</td>\n",
       "      <td>0</td>\n",
       "      <td>1</td>\n",
       "      <td>0</td>\n",
       "      <td>0</td>\n",
       "      <td>0</td>\n",
       "      <td>...</td>\n",
       "      <td>0</td>\n",
       "      <td>0</td>\n",
       "      <td>0</td>\n",
       "      <td>0</td>\n",
       "      <td>0</td>\n",
       "      <td>0</td>\n",
       "      <td>0</td>\n",
       "      <td>0</td>\n",
       "      <td>1</td>\n",
       "      <td>0</td>\n",
       "    </tr>\n",
       "  </tbody>\n",
       "</table>\n",
       "<p>2370 rows × 174 columns</p>\n",
       "</div>"
      ],
      "text/plain": [
       "      Longitude  Latitude  Terrains_mapped  Profundidade_bin  \\\n",
       "0     -0.999992  0.751853                0               0.0   \n",
       "1     -0.999991  0.751853                0               0.0   \n",
       "2     -0.999995  0.751853                1               1.0   \n",
       "3     -0.999995  0.751853                1               1.0   \n",
       "4     -0.999995  0.751853                1               1.0   \n",
       "...         ...       ...              ...               ...   \n",
       "4238  -0.999994  0.751853                1               1.0   \n",
       "4239  -0.999993  0.751853                1               0.0   \n",
       "4246  -0.999993  0.751853                1               1.0   \n",
       "4255  -0.999993  0.751853                1               0.0   \n",
       "4256  -0.999993  0.751853                1               0.0   \n",
       "\n",
       "      Initial Class_WILDCAT  Initial Class_APPRAISAL  \\\n",
       "0                         1                        0   \n",
       "1                         1                        0   \n",
       "2                         1                        0   \n",
       "3                         1                        0   \n",
       "4                         1                        0   \n",
       "...                     ...                      ...   \n",
       "4238                      1                        0   \n",
       "4239                      1                        0   \n",
       "4246                      0                        0   \n",
       "4255                      0                        0   \n",
       "4256                      0                        0   \n",
       "\n",
       "      Initial Class_DEVELOPMENT  Initial Class_STRATIGRAPHIC TEST  \\\n",
       "0                             0                                 0   \n",
       "1                             0                                 0   \n",
       "2                             0                                 0   \n",
       "3                             0                                 0   \n",
       "4                             0                                 0   \n",
       "...                         ...                               ...   \n",
       "4238                          0                                 0   \n",
       "4239                          0                                 0   \n",
       "4246                          1                                 0   \n",
       "4255                          1                                 0   \n",
       "4256                          1                                 0   \n",
       "\n",
       "      Initial Class_-1  Field_CABS_NOFIELD  ...  Field_02_SULELESOUTH  \\\n",
       "0                    0                   1  ...                     0   \n",
       "1                    0                   1  ...                     0   \n",
       "2                    0                   0  ...                     0   \n",
       "3                    0                   0  ...                     0   \n",
       "4                    0                   0  ...                     0   \n",
       "...                ...                 ...  ...                   ...   \n",
       "4238                 0                   0  ...                     0   \n",
       "4239                 0                   0  ...                     0   \n",
       "4246                 0                   0  ...                     0   \n",
       "4255                 0                   0  ...                     0   \n",
       "4256                 0                   0  ...                     0   \n",
       "\n",
       "      Field_02_SULELEWEST  Field_KON_TOBIAS  Field_14_TOMBOCO  \\\n",
       "0                       0                 0                 0   \n",
       "1                       0                 0                 0   \n",
       "2                       0                 0                 0   \n",
       "3                       0                 0                 0   \n",
       "4                       0                 0                 0   \n",
       "...                   ...               ...               ...   \n",
       "4238                    0                 0                 0   \n",
       "4239                    0                 0                 0   \n",
       "4246                    0                 0                 0   \n",
       "4255                    0                 0                 0   \n",
       "4256                    0                 0                 0   \n",
       "\n",
       "      Field_14_TOMBUA  Field_02_TUBARAO  Field_40_BLOCK40_NOFIELD  \\\n",
       "0                   0                 0                         0   \n",
       "1                   0                 0                         0   \n",
       "2                   0                 0                         0   \n",
       "3                   0                 0                         0   \n",
       "4                   0                 0                         0   \n",
       "...               ...               ...                       ...   \n",
       "4238                0                 0                         0   \n",
       "4239                0                 0                         0   \n",
       "4246                0                 0                         0   \n",
       "4255                0                 0                         0   \n",
       "4256                0                 0                         0   \n",
       "\n",
       "      Field_15_XIKOMBA  Field_17_ZINIA  Field_-1  \n",
       "0                    0               0         0  \n",
       "1                    0               0         0  \n",
       "2                    0               0         0  \n",
       "3                    0               0         0  \n",
       "4                    0               0         0  \n",
       "...                ...             ...       ...  \n",
       "4238                 0               0         0  \n",
       "4239                 0               0         0  \n",
       "4246                 0               1         0  \n",
       "4255                 0               1         0  \n",
       "4256                 0               1         0  \n",
       "\n",
       "[2370 rows x 174 columns]"
      ]
     },
     "execution_count": 56,
     "metadata": {},
     "output_type": "execute_result"
    }
   ],
   "source": [
    "columns_for_class = ['Longitude','Latitude','Initial Class','Terrains_mapped','Field','Profundidade_bin']\n",
    "data_for_class = data_com_profundidade[columns_for_class].dropna()\n",
    "\n",
    "\n",
    "ohe_Initial_Class = ce.one_hot.OneHotEncoder(use_cat_names=True, handle_unknown='indicator')\n",
    "X = data_for_class[['Initial Class']]\n",
    "ohe_Initial_Class.fit(X)\n",
    "data_for_class = pd.concat((data_for_class.drop(columns='Initial Class'),ohe_Initial_Class.transform(X)), axis=1)\n",
    "\n",
    "\n",
    "ohe_Field = ce.one_hot.OneHotEncoder(use_cat_names=True, handle_unknown='indicator')\n",
    "X = data_for_class[['Field']]\n",
    "ohe_Field.fit(X)\n",
    "data_for_class = pd.concat((data_for_class.drop(columns='Field'),ohe_Field.transform(X)), axis=1)\n",
    "\n",
    "\n",
    "minmaxscaler = MinMaxScaler(feature_range=(-1,1))\n",
    "X = data_for_class[['Longitude']]\n",
    "minmaxscaler.fit(X)\n",
    "data_for_class['Longitude'] = minmaxscaler.transform(X)\n",
    "\n",
    "\n",
    "minmaxscaler = MinMaxScaler(feature_range=(-1,1))\n",
    "X = data_for_class[['Latitude']]\n",
    "minmaxscaler.fit(X)\n",
    "data_for_class['Latitude'] = minmaxscaler.transform(X)\n",
    "\n",
    "data_for_class"
   ]
  },
  {
   "cell_type": "markdown",
   "metadata": {},
   "source": [
    "Vamos então treinar uma regressão logística e calcular o seu score além de predizer as probabilidades dadas pelo nosso modelo. Depois, iremos calcular algumas métricas do mesmo."
   ]
  },
  {
   "cell_type": "code",
   "execution_count": 113,
   "metadata": {},
   "outputs": [],
   "source": [
    "# Importamos a regressão logística\n",
    "from sklearn.linear_model import LogisticRegression\n",
    "\n",
    "# O código escreve-se aqui\n"
   ]
  },
  {
   "cell_type": "code",
   "execution_count": 114,
   "metadata": {},
   "outputs": [],
   "source": [
    "# Vamos predizer as probabilidades com o nosso modelo\n"
   ]
  },
  {
   "cell_type": "code",
   "execution_count": 115,
   "metadata": {},
   "outputs": [],
   "source": [
    "# Como tínhamos visto, é importante testar as diferentes métricas do nosso modelo.\n",
    "# Vamos importá-las\n",
    "from sklearn.metrics import (\n",
    "    accuracy_score, \n",
    "    precision_score,\n",
    "    recall_score, \n",
    "    confusion_matrix\n",
    ")\n",
    "\n",
    "# Primeiro, vamos ver a matriz de confusão\n"
   ]
  },
  {
   "cell_type": "code",
   "execution_count": 116,
   "metadata": {},
   "outputs": [],
   "source": [
    "# E agora vamos ver o resto das medidas\n",
    "\n"
   ]
  },
  {
   "cell_type": "markdown",
   "metadata": {},
   "source": [
    "Portanto, vemos que o nosso modelo de classificação consegue predizer com uma certeza de 85% mínimo! Não parece nada mal! Obviamente, em comparação com a regressão linear, este modelo dá menos informação e por isso é que vemos uma melhor capacidade de predição."
   ]
  },
  {
   "cell_type": "markdown",
   "metadata": {},
   "source": [
    "### Exercício da parte 13 e 14"
   ]
  },
  {
   "cell_type": "markdown",
   "metadata": {},
   "source": [
    "Finalmente, tínhamos visto nas partes 13 e 14 que muitas vezes podemos chegar a fazer com que os nossos modelos sejam bons nos nossos dados, mas muito maus a predizer valores novos. Isto é um problema grave de overfitting onde o modelo não é capaz de ser eficaz. A técnica que tínhamos estudado para comprovar a validade do modelo consistia em fazer um train_test_split dos nossos dados. Vamos começar pela regressão linear e vamos reservar o 40% dos nossos dados como dados de teste."
   ]
  },
  {
   "cell_type": "code",
   "execution_count": 117,
   "metadata": {},
   "outputs": [
    {
     "name": "stdout",
     "output_type": "stream",
     "text": [
      "---\n",
      "Number of observations:\n",
      "Train: 1422 | Test: 948\n"
     ]
    }
   ],
   "source": [
    "# Importamos a função train_test_split\n",
    "from sklearn.model_selection import train_test_split\n",
    "\n",
    "# O código escreve-se aqui\n",
    "\n",
    "\n",
    "# Esta linha é para visualizar o número de dados de cada variável\n",
    "# Não te esqueças de mudar o nome das variáveis se for necessário\n",
    "print(f\"---\\nNumber of observations:\\nTrain: {X_train.shape[0]} | Test: {X_test.shape[0]}\")"
   ]
  },
  {
   "cell_type": "code",
   "execution_count": 118,
   "metadata": {},
   "outputs": [],
   "source": [
    "# Voltamos treinar o nosso modelo de regressão linear, mas\n",
    "# agora só nos nossos dados de treino!\n",
    "\n",
    "\n",
    "# E vamos comparar a métrica R^2 nos dados de treino e nos\n",
    "# dados de teste.\n",
    "\n"
   ]
  },
  {
   "cell_type": "markdown",
   "metadata": {},
   "source": [
    "Ahh agora podemos ver que o nosso 65% não significava nada! O nosso modelo de regressão linear está extremadamente overfitted e não consegue fazer prediçoes válidas... grande tristeza... vamos então ver se o modelo de classificação pode ser utilizado."
   ]
  },
  {
   "cell_type": "code",
   "execution_count": 119,
   "metadata": {},
   "outputs": [
    {
     "name": "stdout",
     "output_type": "stream",
     "text": [
      "---\n",
      "Number of observations:\n",
      "Train: 1422 | Test: 948\n"
     ]
    }
   ],
   "source": [
    "# O código escreve-se aqui\n",
    "\n",
    "\n",
    "print(f\"---\\nNumber of observations:\\nTrain: {X_train.shape[0]} | Test: {X_test.shape[0]}\")"
   ]
  },
  {
   "cell_type": "code",
   "execution_count": 120,
   "metadata": {},
   "outputs": [
    {
     "name": "stdout",
     "output_type": "stream",
     "text": [
      "---------------Dados de Treino---------------\n",
      "\n",
      "\n",
      "\n",
      "---------------Dados de Teste---------------\n",
      "\n",
      "\n",
      "\n"
     ]
    }
   ],
   "source": [
    "# Treinamos a nossa regressão logística\n",
    "\n",
    "\n",
    "# e vamos visualizar as métricas para os dados de treino\n",
    "# e para os dados de teste\n",
    "print('---------------Dados de Treino---------------')\n",
    "print() \n",
    "print()\n",
    "print()\n",
    "\n",
    "print('---------------Dados de Teste---------------')\n",
    "print() \n",
    "print()\n",
    "print()"
   ]
  },
  {
   "cell_type": "markdown",
   "metadata": {},
   "source": [
    "Hurray!!! Este modelo já consegue predizer com uma precisão bem mais significativa e é estável! Podemos festejar!!"
   ]
  }
 ],
 "metadata": {
  "kernelspec": {
   "display_name": "Python 3 (ipykernel)",
   "language": "python",
   "name": "python3"
  },
  "language_info": {
   "codemirror_mode": {
    "name": "ipython",
    "version": 3
   },
   "file_extension": ".py",
   "mimetype": "text/x-python",
   "name": "python",
   "nbconvert_exporter": "python",
   "pygments_lexer": "ipython3",
   "version": "3.7.16"
  }
 },
 "nbformat": 4,
 "nbformat_minor": 2
}
