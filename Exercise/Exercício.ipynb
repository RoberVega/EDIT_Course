{
 "cells": [
  {
   "cell_type": "markdown",
   "metadata": {},
   "source": [
    "# Exercício Prático da ANPG"
   ]
  },
  {
   "cell_type": "markdown",
   "metadata": {},
   "source": [
    "Começamos com importar os pacotes necessários"
   ]
  },
  {
   "cell_type": "code",
   "execution_count": 2,
   "metadata": {},
   "outputs": [],
   "source": [
    "import pandas as pd\n",
    "import numpy as np"
   ]
  },
  {
   "cell_type": "markdown",
   "metadata": {},
   "source": [
    "### Exercício da parte 1"
   ]
  },
  {
   "cell_type": "markdown",
   "metadata": {},
   "source": [
    "Vamos começar por importar o nosso excel \"List of all wells_2022.25.01.xlsx\" numa variável chamada **data**. Da mesma maneira que o pandas tinha a função pd.read_csv(), também existe a função pd.read_excel(). Podem consultar a documentação neste link:\n",
    "\n",
    "https://pandas.pydata.org/docs/reference/api/pandas.read_excel.html\n",
    "\n",
    "A seguir, também vamos visualizar os primeiros 5 elementos e os 10 últimos."
   ]
  },
  {
   "cell_type": "code",
   "execution_count": 1,
   "metadata": {},
   "outputs": [],
   "source": [
    "# O código escreve-se aqui\n",
    "\n",
    "\n"
   ]
  },
  {
   "cell_type": "markdown",
   "metadata": {},
   "source": [
    "Vamos também ver a informação sobre o nosso DataFrame"
   ]
  },
  {
   "cell_type": "code",
   "execution_count": null,
   "metadata": {},
   "outputs": [],
   "source": [
    "# O código escreve-se aqui\n",
    "\n"
   ]
  },
  {
   "cell_type": "markdown",
   "metadata": {},
   "source": [
    "### Exercício da parte 2"
   ]
  },
  {
   "cell_type": "markdown",
   "metadata": {},
   "source": [
    "Vamos também renomear as colunas \n",
    "\n",
    "* Rig Release \\n(Data de Abandono do Rig) \n",
    "* Spud Date \\n(Data de perfuração)  \n",
    "* Drillers TD \\n(Profundidade da perfuração)\n",
    "\n",
    "como \n",
    "\n",
    "* Data de Abandono do Rig\n",
    "* Data de perfuração\n",
    "* Profundidade da perfuração\n",
    "\n",
    "respetivamente."
   ]
  },
  {
   "cell_type": "code",
   "execution_count": null,
   "metadata": {},
   "outputs": [],
   "source": [
    "# O código escreve-se aqui\n",
    "\n"
   ]
  },
  {
   "cell_type": "markdown",
   "metadata": {},
   "source": [
    "Vamos agora ordenar o nosso Dataframe a utilizar o índice **Well Name** como referência."
   ]
  },
  {
   "cell_type": "code",
   "execution_count": null,
   "metadata": {},
   "outputs": [],
   "source": [
    "# O código escreve-se aqui\n",
    "\n"
   ]
  },
  {
   "cell_type": "markdown",
   "metadata": {},
   "source": [
    "Sempre que temos o **UWI (Unique Well Identifier)** como unico, vamos também alterar para fazer deste o nosso índice, mas a manter o **Well Name** como coluna e apagar a coluna **UWI (Unique Well Identifier)**."
   ]
  },
  {
   "cell_type": "code",
   "execution_count": null,
   "metadata": {},
   "outputs": [],
   "source": [
    "# O código escreve-se aqui\n",
    "\n"
   ]
  },
  {
   "cell_type": "markdown",
   "metadata": {},
   "source": [
    "Vamos agora criar uma nova coluna, chamada **Profundidade em metros**, onde vamos ter a nossa profundidade em metros."
   ]
  },
  {
   "cell_type": "code",
   "execution_count": 3,
   "metadata": {},
   "outputs": [],
   "source": [
    "# O primeiro passo vai ser criar um dicionário que transforme METERS em 1\n",
    "# e FEET em 0.3048\n",
    "\n",
    "\n",
    "# Depois vamos mapear a coluna 'Units' com a função .map() a ussar o nosso\n",
    "# dicionário e vamos visualizar a fazer display\n",
    "\n",
    "\n",
    "# Finalmente vamos criar uma coluna \"Profundidade em metros\" a utilizar \n",
    "# a coluna anterior e a coluna \"Profundidade de perfuração\"\n"
   ]
  },
  {
   "cell_type": "markdown",
   "metadata": {},
   "source": [
    "A seguir, vamos apagar a coluna **Country**, pois nao faz sentido manter."
   ]
  },
  {
   "cell_type": "code",
   "execution_count": null,
   "metadata": {},
   "outputs": [],
   "source": [
    "# O código escreve-se aqui\n",
    "\n"
   ]
  }
 ],
 "metadata": {
  "kernelspec": {
   "display_name": "Python 3 (ipykernel)",
   "language": "python",
   "name": "python3"
  },
  "language_info": {
   "codemirror_mode": {
    "name": "ipython",
    "version": 3
   },
   "file_extension": ".py",
   "mimetype": "text/x-python",
   "name": "python",
   "nbconvert_exporter": "python",
   "pygments_lexer": "ipython3",
   "version": "3.7.16"
  }
 },
 "nbformat": 4,
 "nbformat_minor": 2
}
